{
 "cells": [
  {
   "cell_type": "code",
   "execution_count": 1,
   "id": "ef1ee16d",
   "metadata": {},
   "outputs": [],
   "source": [
    "# Import the dependencies.\n",
    "import pandas as pd\n",
    "import matplotlib.pyplot as plt\n",
    "import numpy as np"
   ]
  },
  {
   "cell_type": "code",
   "execution_count": 2,
   "id": "a92372ec",
   "metadata": {},
   "outputs": [],
   "source": [
    "# Create a practice set of random latitude and longitude combinations.\n",
    "lats = [25.12903645, 25.92017388, 26.62509167, -59.98969384, 37.30571269]\n",
    "lngs = [-67.59741259, 11.09532135, 74.84233102, -76.89176677, -61.13376282]\n",
    "lat_lngs = zip(lats, lngs)"
   ]
  },
  {
   "cell_type": "code",
   "execution_count": 3,
   "id": "9d91a2b4",
   "metadata": {},
   "outputs": [],
   "source": [
    "# let's unpack our lat_lngs zip object into a list. \n",
    "    # This way, we only need to create a set of random latitudes and longitudes once."
   ]
  },
  {
   "cell_type": "code",
   "execution_count": 4,
   "id": "eba133f5",
   "metadata": {},
   "outputs": [],
   "source": [
    "coordinates = list(lat_lngs)"
   ]
  },
  {
   "cell_type": "code",
   "execution_count": 5,
   "id": "a200f57f",
   "metadata": {},
   "outputs": [
    {
     "name": "stdout",
     "output_type": "stream",
     "text": [
      "25.12903645 -67.59741259\n",
      "25.92017388 11.09532135\n",
      "26.62509167 74.84233102\n",
      "-59.98969384 -76.89176677\n",
      "37.30571269 -61.13376282\n"
     ]
    }
   ],
   "source": [
    "for coordinate in coordinates:\n",
    "    print(coordinate[0], coordinate[1])"
   ]
  },
  {
   "cell_type": "code",
   "execution_count": 6,
   "id": "583e4f1f",
   "metadata": {},
   "outputs": [],
   "source": [
    "# Use the citipy module to determine city based on latitude and longitude.\n",
    "from citipy import citipy"
   ]
  },
  {
   "cell_type": "code",
   "execution_count": 7,
   "id": "acc2fc3e",
   "metadata": {},
   "outputs": [],
   "source": [
    "# Create a for loop that does the following\n",
    "    # Iterate through the coordinates' unzipped tuple.\n",
    "    # Use citipy.nearest_city() \n",
    "        # and inside the parentheses of nearest_city(), \n",
    "            # add the latitude and longitude in this format: \n",
    "                # coordinate[0], coordinate[1].\n",
    "    # To print the city name, \n",
    "        # chain the city_name to the nearest_city() function.\n",
    "    # To print the country name, \n",
    "        # chain the country_code to the nearest_city() function.\n"
   ]
  },
  {
   "cell_type": "code",
   "execution_count": 8,
   "id": "1e2a56e5",
   "metadata": {},
   "outputs": [
    {
     "name": "stdout",
     "output_type": "stream",
     "text": [
      "cockburn town tc\n",
      "gat ly\n",
      "parvatsar in\n",
      "punta arenas cl\n",
      "saint george bm\n"
     ]
    }
   ],
   "source": [
    "# Use the print() function to display the latitude and longitude combinations.\n",
    "for coordinate in coordinates:\n",
    "    print(citipy.nearest_city(coordinate[0], coordinate[1]).city_name,\n",
    "          citipy.nearest_city(coordinate[0], coordinate[1]).country_code)"
   ]
  },
  {
   "cell_type": "code",
   "execution_count": 9,
   "id": "200b9eaf",
   "metadata": {},
   "outputs": [],
   "source": [
    "# Import the requests library.\n",
    "import requests\n",
    "\n",
    "# Import the API key.\n",
    "from config import weather_api_key"
   ]
  },
  {
   "cell_type": "code",
   "execution_count": 10,
   "id": "5978fbe0",
   "metadata": {},
   "outputs": [],
   "source": [
    "# NOTE\n",
    "    # If you get a ModuleNotFoundError message, \n",
    "        # then either your config.py file is not in the same folder as the Jupyter Notebook file, \n",
    "        # or the name of your config.py file is not the same in the import statement.\n",
    "    # If you get a ImportError message, \n",
    "        # then the variable for your API key in the code statement is not the same as the variable in your config.py file."
   ]
  },
  {
   "cell_type": "code",
   "execution_count": 11,
   "id": "d59311aa",
   "metadata": {},
   "outputs": [],
   "source": [
    "# MAKE AN API CALL\n",
    "    # Navigate to the OpenWeatherMap API documentation for current weather Links to an external site..\n",
    "    # This page provides instructions on how to make the API call by city name. \n",
    "        # The structure of our URL should look like the following:\n",
    "            # api.openweathermap.org/data/2.5/weather?q=city&appid=b6907d289e10d714a6e88b30761fae22\n",
    "    # Add your API key and the city from the cities array for each call."
   ]
  },
  {
   "cell_type": "code",
   "execution_count": 12,
   "id": "d6bb724c",
   "metadata": {},
   "outputs": [
    {
     "name": "stdout",
     "output_type": "stream",
     "text": [
      "http://api.openweathermap.org/data/2.5/weather?units=Imperial&APPID=b2a691d9bfeae144a705c053319fcf96\n"
     ]
    }
   ],
   "source": [
    "# Starting URL for Weather Map API Call.\n",
    "url = \"http://api.openweathermap.org/data/2.5/weather?units=Imperial&APPID=\" + weather_api_key\n",
    "print(url)"
   ]
  },
  {
   "cell_type": "code",
   "execution_count": 13,
   "id": "dfb03bea",
   "metadata": {},
   "outputs": [],
   "source": [
    "# NOTE\n",
    "    # Once you print out your URL, be sure to delete your printed URL from your notebook. \n",
    "    # This prevents your private API key from being stored in plain text.\n",
    "    # You may have noticed that we added another feature to the URL: units=Imperial. \n",
    "        # There are three unit options: standard, metric, and imperial"
   ]
  },
  {
   "cell_type": "code",
   "execution_count": 14,
   "id": "c1029c6c",
   "metadata": {},
   "outputs": [
    {
     "name": "stdout",
     "output_type": "stream",
     "text": [
      "http://api.openweathermap.org/data/2.5/weather?units=Imperial&APPID=b2a691d9bfeae144a705c053319fcf96&q=Boston\n"
     ]
    }
   ],
   "source": [
    "# Create an endpoint URL for a city.\n",
    "city_url = url + \"&q=\" + \"Boston\"\n",
    "print(city_url)"
   ]
  },
  {
   "cell_type": "code",
   "execution_count": 15,
   "id": "e2608d7f",
   "metadata": {},
   "outputs": [],
   "source": [
    "# JSON - JavaScript Object Notation\n",
    "# To make the JSON format readable, \n",
    "    # add the Chrome JSONView extension Links to an external site.to your Chrome web browser\n",
    "# Since we're retrieving current weather data, \n",
    "    # the JSON data shown in the above image will differ from that in your endpoint printout. \n",
    "    # Instead, your weather data will reflect the specific time you ran the code"
   ]
  },
  {
   "cell_type": "code",
   "execution_count": 16,
   "id": "01d6672e",
   "metadata": {},
   "outputs": [],
   "source": [
    "# MAKE A REQUEST FOR DATA TO AN API\n",
    "    # Retrieve a Response using the get() Method\n",
    "        # Use the get() method, a feature of the Requests Library, to request data from an API. \n",
    "        # The get() method is one of many HTTP methods that allow us to access, add, delete, get the headers, and perform other actions on the request\n",
    "        # METHODS\n",
    "            # get() - Retrieves data from web source\n",
    "            # head() - Retrieves the headers from a web source\n",
    "            # post() - Adds or annotates data on a web source. Used on mailing groups, message boards, or comments.\n",
    "            # put() - Updates an existing resource. For example, if the date on a Wikipedia page is wrong, you can use the put() method to update that date.\n",
    "            # delete() - Deletes data from a web source.\n",
    "            # options() - Discovers what HTTP methods a web source allows.\n",
    "            # patch() - Partially modifies a web source."
   ]
  },
  {
   "cell_type": "code",
   "execution_count": 17,
   "id": "f2a10889",
   "metadata": {},
   "outputs": [
    {
     "data": {
      "text/plain": [
       "<Response [200]>"
      ]
     },
     "execution_count": 17,
     "metadata": {},
     "output_type": "execute_result"
    }
   ],
   "source": [
    "# Make a 'Get' request for the city weather.\n",
    "city_weather = requests.get(city_url)\n",
    "city_weather"
   ]
  },
  {
   "cell_type": "code",
   "execution_count": 18,
   "id": "bbda4810",
   "metadata": {},
   "outputs": [],
   "source": [
    "# The code output will be <Response [200]>, indicating a valid response. \n",
    "    # We won't see this code when a website appears in a browser. \n",
    "    # However, when a website does not appear, we'll see a 404 code, indicating a client error."
   ]
  },
  {
   "cell_type": "code",
   "execution_count": 19,
   "id": "671f21a7",
   "metadata": {},
   "outputs": [
    {
     "data": {
      "text/plain": [
       "200"
      ]
     },
     "execution_count": 19,
     "metadata": {},
     "output_type": "execute_result"
    }
   ],
   "source": [
    "# You can directly call the response code with the get() method using the status_code. \n",
    "    # If we chain the status_code to the city_weather variable, we get 200 as the output.\n",
    "    \n",
    "city_weather.status_code"
   ]
  },
  {
   "cell_type": "code",
   "execution_count": 20,
   "id": "2fc03bbd",
   "metadata": {},
   "outputs": [
    {
     "data": {
      "text/plain": [
       "<Response [404]>"
      ]
     },
     "execution_count": 20,
     "metadata": {},
     "output_type": "execute_result"
    }
   ],
   "source": [
    "# What happens when you mispell a city\n",
    "\n",
    "# Create an endpoint URL for a city.\n",
    "city_url = url + \"&q=\" + \"Bston\"\n",
    "city_weather = requests.get(city_url)\n",
    "city_weather"
   ]
  },
  {
   "cell_type": "code",
   "execution_count": 21,
   "id": "f1a86bb1",
   "metadata": {},
   "outputs": [
    {
     "data": {
      "text/plain": [
       "<Response [200]>"
      ]
     },
     "execution_count": 21,
     "metadata": {},
     "output_type": "execute_result"
    }
   ],
   "source": [
    "# GET DATA FROM A RESPONSE\n",
    "\n",
    "# Create an endpoint URL for a city.\n",
    "city_url = url + \"&q=\" + \"Boston\"\n",
    "city_weather = requests.get(city_url)\n",
    "city_weather"
   ]
  },
  {
   "cell_type": "code",
   "execution_count": 22,
   "id": "40f2fb13",
   "metadata": {},
   "outputs": [],
   "source": [
    "# When we run this cell the output is \"<Response [200]>.\"\n",
    "    # When we receive a valid response from the server, we have to decide on the data format. \n",
    "        # The options are text, JSON, XML, or HTML format. \n",
    "        # We can apply the format attributes to get the data into a useful format to parse.\n",
    "    # One format that provides a preview of the JSON data is the text attribute."
   ]
  },
  {
   "cell_type": "code",
   "execution_count": 23,
   "id": "25bcb966",
   "metadata": {},
   "outputs": [
    {
     "data": {
      "text/plain": [
       "'{\"coord\":{\"lon\":-71.0598,\"lat\":42.3584},\"weather\":[{\"id\":801,\"main\":\"Clouds\",\"description\":\"few clouds\",\"icon\":\"02n\"}],\"base\":\"stations\",\"main\":{\"temp\":36.19,\"feels_like\":26.6,\"temp_min\":33.03,\"temp_max\":38.52,\"pressure\":1007,\"humidity\":78},\"visibility\":10000,\"wind\":{\"speed\":16.11,\"deg\":270,\"gust\":24.16},\"clouds\":{\"all\":20},\"dt\":1671330344,\"sys\":{\"type\":2,\"id\":2013408,\"country\":\"US\",\"sunrise\":1671278872,\"sunset\":1671311576},\"timezone\":-18000,\"id\":4930956,\"name\":\"Boston\",\"cod\":200}'"
      ]
     },
     "execution_count": 23,
     "metadata": {},
     "output_type": "execute_result"
    }
   ],
   "source": [
    "# Get the text of the 'Get' request.\n",
    "city_weather.text"
   ]
  },
  {
   "cell_type": "code",
   "execution_count": 24,
   "id": "ddecca08",
   "metadata": {},
   "outputs": [],
   "source": [
    "# The text in the output is a dictionary of dictionaries and arrays, or a JSON file. \n",
    "    # We can work with this data, but it might be more challenging if we needed to retrieve temp and humidity"
   ]
  },
  {
   "cell_type": "code",
   "execution_count": 25,
   "id": "d14048a9",
   "metadata": {},
   "outputs": [
    {
     "data": {
      "text/plain": [
       "{'coord': {'lon': -71.0598, 'lat': 42.3584},\n",
       " 'weather': [{'id': 801,\n",
       "   'main': 'Clouds',\n",
       "   'description': 'few clouds',\n",
       "   'icon': '02n'}],\n",
       " 'base': 'stations',\n",
       " 'main': {'temp': 36.19,\n",
       "  'feels_like': 26.6,\n",
       "  'temp_min': 33.03,\n",
       "  'temp_max': 38.52,\n",
       "  'pressure': 1007,\n",
       "  'humidity': 78},\n",
       " 'visibility': 10000,\n",
       " 'wind': {'speed': 16.11, 'deg': 270, 'gust': 24.16},\n",
       " 'clouds': {'all': 20},\n",
       " 'dt': 1671330344,\n",
       " 'sys': {'type': 2,\n",
       "  'id': 2013408,\n",
       "  'country': 'US',\n",
       "  'sunrise': 1671278872,\n",
       "  'sunset': 1671311576},\n",
       " 'timezone': -18000,\n",
       " 'id': 4930956,\n",
       " 'name': 'Boston',\n",
       " 'cod': 200}"
      ]
     },
     "execution_count": 25,
     "metadata": {},
     "output_type": "execute_result"
    }
   ],
   "source": [
    "# Get the JSON text of the 'Get' request.\n",
    "city_weather.json()"
   ]
  },
  {
   "cell_type": "code",
   "execution_count": 26,
   "id": "ba4d6e25",
   "metadata": {},
   "outputs": [],
   "source": [
    "# With the JSON method, it is a lot easier to see the overall structure of the data, \n",
    "    # which will make it easier to retrieve data such as temperature and humidity."
   ]
  },
  {
   "cell_type": "code",
   "execution_count": 27,
   "id": "664229af",
   "metadata": {},
   "outputs": [],
   "source": [
    "# HANDLE REQUEST ERRORS\n",
    "    # When we submit a get request for the city_weather, we want to make sure that we get a valid response, i.e., 200, before we retrieve any data. \n",
    "    # To check if we get a valid response, we can write a conditional expression that will evaluate whether the status code is equal to 200. \n",
    "    # If it is, then we can print out a statement that says the weather data was found. \n",
    "    # If there is a response other than 200, we can print out a statement that says the weather was not found"
   ]
  },
  {
   "cell_type": "code",
   "execution_count": 28,
   "id": "2b8c7f14",
   "metadata": {},
   "outputs": [
    {
     "name": "stdout",
     "output_type": "stream",
     "text": [
      "City Weather found.\n"
     ]
    }
   ],
   "source": [
    "# Create an endpoint URL for a city.\n",
    "city_url = url + \"&q=\" + \"Boston\"\n",
    "city_weather = requests.get(city_url)\n",
    "if city_weather.status_code == 200:\n",
    "    print(f\"City Weather found.\")\n",
    "else:\n",
    "    print(f\"City weather not found.\")"
   ]
  },
  {
   "cell_type": "code",
   "execution_count": 29,
   "id": "46d7f6e0",
   "metadata": {},
   "outputs": [],
   "source": [
    "# When the conditional expression is evaluated, it will print City weather found if true, or City weather not found if false.\n",
    "# NOTE\n",
    "    # If the status_code is something other than 200, JSON data will always be returned in the request. \n",
    "    # We can determine if the response was successful by checking the status_code, clicking the URL, or retrieving specific information from the JSON data"
   ]
  },
  {
   "cell_type": "code",
   "execution_count": 30,
   "id": "0cdbc9b7",
   "metadata": {},
   "outputs": [
    {
     "name": "stdout",
     "output_type": "stream",
     "text": [
      "City weather not found.\n"
     ]
    }
   ],
   "source": [
    "# Create an endpoint URL for a city. (JSON FORMAT)\n",
    "city_url = url + \"&q=\" + \"Bston\"\n",
    "city_weather = requests.get(city_url)\n",
    "if city_weather.status_code == 200:\n",
    "    print(f\"City Weather found.\")\n",
    "else:\n",
    "    print(f\"City weather not found.\")"
   ]
  },
  {
   "cell_type": "code",
   "execution_count": 31,
   "id": "cdd8f090",
   "metadata": {},
   "outputs": [
    {
     "name": "stdout",
     "output_type": "stream",
     "text": [
      "http://api.openweathermap.org/data/2.5/weather?units=Imperial&APPID=b2a691d9bfeae144a705c053319fcf96&q=Bston\n"
     ]
    }
   ],
   "source": [
    "# However, if we type print(city_url) in a new cell and run the cell, the output will be a URL. \n",
    "# If we click the URL, the web browser returns a 404 response and there is no data to retrieve\n",
    "print(city_url)"
   ]
  },
  {
   "cell_type": "code",
   "execution_count": 32,
   "id": "f8f92b34",
   "metadata": {},
   "outputs": [
    {
     "data": {
      "text/plain": [
       "{'coord': {'lon': -71.0598, 'lat': 42.3584},\n",
       " 'weather': [{'id': 801,\n",
       "   'main': 'Clouds',\n",
       "   'description': 'few clouds',\n",
       "   'icon': '02n'}],\n",
       " 'base': 'stations',\n",
       " 'main': {'temp': 36.19,\n",
       "  'feels_like': 26.6,\n",
       "  'temp_min': 33.03,\n",
       "  'temp_max': 38.52,\n",
       "  'pressure': 1007,\n",
       "  'humidity': 78},\n",
       " 'visibility': 10000,\n",
       " 'wind': {'speed': 16.11, 'deg': 270, 'gust': 24.16},\n",
       " 'clouds': {'all': 20},\n",
       " 'dt': 1671330344,\n",
       " 'sys': {'type': 2,\n",
       "  'id': 2013408,\n",
       "  'country': 'US',\n",
       "  'sunrise': 1671278872,\n",
       "  'sunset': 1671311576},\n",
       " 'timezone': -18000,\n",
       " 'id': 4930956,\n",
       " 'name': 'Boston',\n",
       " 'cod': 200}"
      ]
     },
     "execution_count": 32,
     "metadata": {},
     "output_type": "execute_result"
    }
   ],
   "source": [
    "# PARSE A RESPONSE FROM AN API\n",
    "\n",
    "# Create an endpoint URL for a city.\n",
    "city_url = url + \"&q=\" + \"Boston\"\n",
    "city_weather = requests.get(city_url)\n",
    "city_weather.json()"
   ]
  },
  {
   "cell_type": "code",
   "execution_count": 33,
   "id": "5ba78983",
   "metadata": {},
   "outputs": [],
   "source": [
    "# First, let's get something simple, like the country code from the JSON formatted data, \n",
    "    # which is in a nested dictionary where the first dictionary starts with sys"
   ]
  },
  {
   "cell_type": "code",
   "execution_count": 34,
   "id": "b3a0ec28",
   "metadata": {},
   "outputs": [],
   "source": [
    "# Get the JSON data.\n",
    "boston_data = city_weather.json()"
   ]
  },
  {
   "cell_type": "code",
   "execution_count": 35,
   "id": "1883230a",
   "metadata": {},
   "outputs": [
    {
     "data": {
      "text/plain": [
       "{'type': 2,\n",
       " 'id': 2013408,\n",
       " 'country': 'US',\n",
       " 'sunrise': 1671278872,\n",
       " 'sunset': 1671311576}"
      ]
     },
     "execution_count": 35,
     "metadata": {},
     "output_type": "execute_result"
    }
   ],
   "source": [
    "# using the sys key to get the corresponding value, \n",
    "    # we type boston_data['sys'] in a new cell and run the cell\n",
    "    \n",
    "boston_data[\"sys\"]"
   ]
  },
  {
   "cell_type": "code",
   "execution_count": 36,
   "id": "11758bb6",
   "metadata": {},
   "outputs": [
    {
     "data": {
      "text/plain": [
       "'US'"
      ]
     },
     "execution_count": 36,
     "metadata": {},
     "output_type": "execute_result"
    }
   ],
   "source": [
    "# If we add the country key in brackets after the sys key, and run the cell again, \n",
    "    # ‘US’ will be returned in the output.\n",
    "    \n",
    "boston_data [\"sys\"][\"country\"]\n",
    "\n",
    "# NOTE\n",
    "    # When we used boston_data[\"sys\"], there was a key for sunrise and a key for sunset in the output. \n",
    "    # The value for these keys is the time of day in seconds in a database timestamp format."
   ]
  },
  {
   "cell_type": "code",
   "execution_count": 37,
   "id": "7d908f7f",
   "metadata": {},
   "outputs": [],
   "source": [
    "# Note \n",
    "    # When we used boston_data[\"sys\"], \n",
    "        # there was a key for sunrise and a key for sunset in the output. \n",
    "        # The value for these keys is the time of day in seconds in a database timestamp format.\n",
    "    # If we want to retrieve the date in the weather data, \n",
    "        # we would add the dt key to the boston_data variable like this: \n",
    "            # boston_data[\"dt\"]"
   ]
  },
  {
   "cell_type": "code",
   "execution_count": 38,
   "id": "327a984c",
   "metadata": {},
   "outputs": [
    {
     "name": "stdout",
     "output_type": "stream",
     "text": [
      "42.3584 -71.0598 38.52 78 20 16.11\n"
     ]
    }
   ],
   "source": [
    "lat = boston_data[\"coord\"][\"lat\"]\n",
    "lng = boston_data[\"coord\"][\"lon\"]\n",
    "max_temp = boston_data[\"main\"][\"temp_max\"]\n",
    "humidity = boston_data[\"main\"][\"humidity\"]\n",
    "clouds = boston_data[\"clouds\"][\"all\"]\n",
    "wind = boston_data[\"wind\"][\"speed\"]\n",
    "print(lat, lng, max_temp, humidity, clouds, wind)"
   ]
  },
  {
   "cell_type": "code",
   "execution_count": 39,
   "id": "2162f5ea",
   "metadata": {},
   "outputs": [
    {
     "data": {
      "text/plain": [
       "1671330344"
      ]
     },
     "execution_count": 39,
     "metadata": {},
     "output_type": "execute_result"
    }
   ],
   "source": [
    "# CONVERT THE TIMESTAMP\n",
    "\n",
    "boston_data[\"dt\"]"
   ]
  },
  {
   "cell_type": "code",
   "execution_count": 40,
   "id": "ab112059",
   "metadata": {},
   "outputs": [],
   "source": [
    "# This format is called Coordinated Universal Time (UTC) or Greenwich Mean Time (GMT). \n",
    "    # If we want to convert the timestamp to the International Organization for Standardization (ISO) format, or YYYY-MM-DD-HH-MM-SS, \n",
    "        # we need to use the Python datetime module.\n",
    "# Let's convert the date from the Boston weather data in the JSON format to the ISO format"
   ]
  },
  {
   "cell_type": "code",
   "execution_count": 41,
   "id": "cca5a848",
   "metadata": {},
   "outputs": [
    {
     "data": {
      "text/plain": [
       "datetime.datetime(2022, 12, 18, 2, 25, 44)"
      ]
     },
     "execution_count": 41,
     "metadata": {},
     "output_type": "execute_result"
    }
   ],
   "source": [
    "# Import the datetime module from the datetime library.\n",
    "from datetime import datetime\n",
    "# Get the date from the JSON file.\n",
    "date = boston_data[\"dt\"]\n",
    "# Convert the UTC date to a date format with year, month, day, hours, minutes, and seconds.\n",
    "datetime.utcfromtimestamp(date)"
   ]
  },
  {
   "cell_type": "code",
   "execution_count": 42,
   "id": "d1a8a355",
   "metadata": {},
   "outputs": [],
   "source": [
    "# We can convert this datetime format to 2019-10-21 17:24:35 \n",
    "    # using the Python string format method strftime() \n",
    "    # and adding how we want the string to look inside the parentheses. \n",
    "    # In our case, we would use strftime('%Y-%m-%d %H:%M:%S').\n",
    "        # Add .strftime('%Y-%m-%d %H:%M:%S') to the end of the conversion: \n",
    "            # datetime.utcfromtimestamp(date).strftime('%Y-%m-%d %H:%M:%S'). \n",
    "            # Rerun the cell. "
   ]
  },
  {
   "cell_type": "code",
   "execution_count": 43,
   "id": "06679063",
   "metadata": {},
   "outputs": [
    {
     "data": {
      "text/plain": [
       "'2022-12-18 02:25:44'"
      ]
     },
     "execution_count": 43,
     "metadata": {},
     "output_type": "execute_result"
    }
   ],
   "source": [
    "datetime.utcfromtimestamp(date).strftime('%Y-%m-%d %H:%M:%S')"
   ]
  },
  {
   "cell_type": "code",
   "execution_count": 44,
   "id": "a6d4ca9d",
   "metadata": {},
   "outputs": [
    {
     "data": {
      "text/plain": [
       "1672276563.403853"
      ]
     },
     "execution_count": 44,
     "metadata": {},
     "output_type": "execute_result"
    }
   ],
   "source": [
    "# Import the time module.\n",
    "import time\n",
    "# Get today's date in seconds.\n",
    "today = time.time()\n",
    "today"
   ]
  },
  {
   "cell_type": "code",
   "execution_count": null,
   "id": "05fcf4af",
   "metadata": {},
   "outputs": [],
   "source": [
    "# When we call the time() function with the time module, \n",
    "    # we get the output of today's time in seconds since January 1, 1970, as a floating-point decimal number."
   ]
  },
  {
   "cell_type": "code",
   "execution_count": null,
   "id": "e4d37dd1",
   "metadata": {},
   "outputs": [],
   "source": [
    "# The format for time appears like the datetime stamp for the JSON weather data. \n",
    "    # We can convert this using the string format method, strftime() and pass the formatting parameters for our date in parentheses. \n",
    "    # To get the format for today, we can add %x inside the parentheses.\n",
    "# Add strftime(\"%x\")to the time module for our today variable and run the cell. \n",
    "    # The output will be today's date."
   ]
  },
  {
   "cell_type": "code",
   "execution_count": 45,
   "id": "c6186ef0",
   "metadata": {},
   "outputs": [
    {
     "data": {
      "text/plain": [
       "'12/28/22'"
      ]
     },
     "execution_count": 45,
     "metadata": {},
     "output_type": "execute_result"
    }
   ],
   "source": [
    "today = time.strftime(\"%x\")\n",
    "today\n",
    "# Now, we can add time.strftime(\"%x\") to our plt.title() function in our scatter plot."
   ]
  },
  {
   "cell_type": "code",
   "execution_count": null,
   "id": "a44f3b07",
   "metadata": {},
   "outputs": [],
   "source": []
  }
 ],
 "metadata": {
  "kernelspec": {
   "display_name": "PythonData",
   "language": "python",
   "name": "pythondata"
  },
  "language_info": {
   "codemirror_mode": {
    "name": "ipython",
    "version": 3
   },
   "file_extension": ".py",
   "mimetype": "text/x-python",
   "name": "python",
   "nbconvert_exporter": "python",
   "pygments_lexer": "ipython3",
   "version": "3.9.13"
  }
 },
 "nbformat": 4,
 "nbformat_minor": 5
}
